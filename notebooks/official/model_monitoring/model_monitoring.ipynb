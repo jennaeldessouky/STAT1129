{
  "cells": [
    {
      "cell_type": "code",
      "source": [
        "# Define categories and words\n",
        "categories = {\n",
        "    \"Fruits\": [\"Apple\", \"Banana\", \"Orange\", \"Grape\"],\n",
        "    \"Colors\": [\"Red\", \"Blue\", \"Green\", \"Yellow\"],\n",
        "    \"Animals\": [\"Lion\", \"Tiger\", \"Bear\", \"Wolf\"],\n",
        "    \"Cities\": [\"Paris\", \"Tokyo\", \"London\", \"Sydney\"]\n",
        "}\n",
        "\n",
        "# Create a list of all words\n",
        "all_words = []\n",
        "for group in categories.values():\n",
        "    all_words += group\n",
        "\n",
        "# Shuffle the words manually\n",
        "import random\n",
        "random.shuffle(all_words)\n",
        "\n",
        "# Keep track of solved groups\n",
        "solved_categories = []\n",
        "\n",
        "# Allow up to 4 mistakes\n",
        "mistakes = 0\n",
        "max_mistakes = 4\n",
        "\n",
        "# Start of the game\n",
        "print(\"Welcome to the Connections Game!\\n\")\n",
        "print(\"Group the words into sets of 4 based on what they have in common.\")\n",
        "print(\"You are allowed 4 mistakes.\\n\")\n",
        "\n",
        "# Game loop\n",
        "while len(solved_categories) < 4 and mistakes < max_mistakes:\n",
        "    # Display remaining words\n",
        "    print(\"\\nWords left:\")\n",
        "    for word in all_words:\n",
        "        print(word)\n",
        "\n",
        "    # Get user input\n",
        "    guess = input(\"\\nEnter 4 words separated by commas: \")\n",
        "    guessed_words = guess.split(\",\")\n",
        "    guessed_words = [word.strip().capitalize() for word in guessed_words]\n",
        "\n",
        "    # Check if the player entered exactly 4 words\n",
        "    if len(guessed_words) != 4:\n",
        "        print(\"❌ You must enter exactly 4 words!\")\n",
        "        continue\n",
        "\n",
        "    # Check if guessed words match any category\n",
        "    found = False\n",
        "    for category, words in categories.items():\n",
        "        if set(guessed_words) == set(words) and category not in solved_categories:\n",
        "            print(f\"✅ Correct! You found the {category} group!\")\n",
        "            solved_categories.append(category)\n",
        "            for word in words:\n",
        "                all_words.remove(word)\n",
        "            found = True\n",
        "            break\n",
        "\n",
        "    if not found:\n",
        "        mistakes += 1\n",
        "        print(f\"❌ Incorrect guess. Mistakes: {mistakes}/{max_mistakes}\")\n",
        "\n",
        "# End of game\n",
        "if len(solved_categories) == 4:\n",
        "    print(\"\\n🎉 Congratulations! You grouped all the words correctly!\")\n",
        "else:\n",
        "    print(\"\\n😞 Game over. You made too many mistakes.\")"
      ],
      "metadata": {
        "id": "BjaRSJqFSrs4",
        "outputId": "4f4aa800-133d-495c-ba6e-1566e76547b1",
        "colab": {
          "base_uri": "https://localhost:8080/"
        }
      },
      "execution_count": null,
      "outputs": [
        {
          "output_type": "stream",
          "name": "stdout",
          "text": [
            "Welcome to the Connections Game!\n",
            "\n",
            "Group the words into sets of 4 based on what they have in common.\n",
            "You are allowed 4 mistakes.\n",
            "\n",
            "\n",
            "Words left:\n",
            "Apple\n",
            "Wolf\n",
            "Orange\n",
            "Grape\n",
            "London\n",
            "Red\n",
            "Tiger\n",
            "Bear\n",
            "Banana\n",
            "Green\n",
            "Lion\n",
            "Blue\n",
            "Sydney\n",
            "Paris\n",
            "Tokyo\n",
            "Yellow\n"
          ]
        }
      ]
    }
  ],
  "metadata": {
    "colab": {
      "name": "model_monitoring.ipynb",
      "provenance": []
    },
    "kernelspec": {
      "display_name": "Python 3",
      "name": "python3"
    }
  },
  "nbformat": 4,
  "nbformat_minor": 0
}